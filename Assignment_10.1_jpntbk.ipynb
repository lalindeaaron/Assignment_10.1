{
 "cells": [
  {
   "cell_type": "code",
   "execution_count": 2,
   "metadata": {},
   "outputs": [
    {
     "name": "stderr",
     "output_type": "stream",
     "text": [
      "C:\\Users\\Arron con Pollo\\Anaconda3\\lib\\site-packages\\numpy\\lib\\arraysetops.py:466: FutureWarning: elementwise comparison failed; returning scalar instead, but in the future will perform elementwise comparison\n",
      "  mask |= (ar1 == a)\n"
     ]
    }
   ],
   "source": [
    "import pandas as pd\n",
    "\n",
    "#reading dataset & dropping unnamed column\n",
    "df = pd.read_csv('US_Baby_Names_right.csv.txt', index_col=0)"
   ]
  },
  {
   "cell_type": "code",
   "execution_count": 3,
   "metadata": {},
   "outputs": [
    {
     "data": {
      "text/plain": [
       "<matplotlib.axes._subplots.AxesSubplot at 0x1efdcadd278>"
      ]
     },
     "execution_count": 3,
     "metadata": {},
     "output_type": "execute_result"
    },
    {
     "data": {
      "image/png": "[encoded data removed]",
      "text/plain": [
       "<matplotlib.figure.Figure at 0x1efdcadd940>"
      ]
     },
     "metadata": {},
     "output_type": "display_data"
    }
   ],
   "source": [
    "\n",
    "#show distribution of male and female\n",
    "a = df['Gender'].value_counts()\n",
    "df['Gender'].value_counts().plot(title='Gender distribution',kind='bar')\n",
    "\n"
   ]
  },
  {
   "cell_type": "code",
   "execution_count": 4,
   "metadata": {},
   "outputs": [
    {
     "name": "stdout",
     "output_type": "stream",
     "text": [
      "Name    Name  \n",
      "Riley   Riley     1112\n",
      "Avery   Avery     1080\n",
      "Jordan  Jordan    1073\n",
      "Peyton  Peyton    1064\n",
      "Hayden  Hayden    1049\n",
      "Name: Name, dtype: int64\n"
     ]
    }
   ],
   "source": [
    "\n",
    "\n",
    "#show top five most preferred names\n",
    "print(df.groupby(['Name']).Name.value_counts().nlargest(5))\n",
    "\n"
   ]
  },
  {
   "cell_type": "code",
   "execution_count": 5,
   "metadata": {},
   "outputs": [
    {
     "name": "stdout",
     "output_type": "stream",
     "text": [
      "57.644906987295826\n"
     ]
    }
   ],
   "source": [
    "\n",
    "\n",
    "#median name occurance in the dataset\n",
    "print(df.groupby(['Name']).Name.value_counts().mean())\n",
    "\n",
    "\n"
   ]
  },
  {
   "cell_type": "code",
   "execution_count": 6,
   "metadata": {},
   "outputs": [
    {
     "data": {
      "text/plain": [
       "Gender  State  Gender\n",
       "F       AK     F          2404\n",
       "        AL     F          9878\n",
       "        AR     F          7171\n",
       "        AZ     F         14518\n",
       "        CA     F         45144\n",
       "        CO     F         11424\n",
       "        CT     F          6575\n",
       "        DC     F          3053\n",
       "        DE     F          2549\n",
       "        FL     F         25781\n",
       "        GA     F         19385\n",
       "        HI     F          3255\n",
       "        IA     F          7131\n",
       "        ID     F          4918\n",
       "        IL     F         21268\n",
       "        IN     F         13056\n",
       "        KS     F          7753\n",
       "        KY     F          8817\n",
       "        LA     F         10510\n",
       "        MA     F         10580\n",
       "        MD     F         11276\n",
       "        ME     F          2976\n",
       "        MI     F         16038\n",
       "        MN     F         10677\n",
       "        MO     F         11948\n",
       "        MS     F          7235\n",
       "        MT     F          2690\n",
       "        NC     F         17357\n",
       "        ND     F          2399\n",
       "        NE     F          5370\n",
       "                         ...  \n",
       "M       ME     M          2777\n",
       "        MI     M         13243\n",
       "        MN     M          9004\n",
       "        MO     M          9917\n",
       "        MS     M          6862\n",
       "        MT     M          2986\n",
       "        NC     M         13530\n",
       "        ND     M          2581\n",
       "        NE     M          5029\n",
       "        NH     M          2659\n",
       "        NJ     M         12274\n",
       "        NM     M          4966\n",
       "        NV     M          6024\n",
       "        NY     M         22585\n",
       "        OH     M         14318\n",
       "        OK     M          8138\n",
       "        OR     M          7333\n",
       "        PA     M         14171\n",
       "        RI     M          2468\n",
       "        SC     M          8195\n",
       "        SD     M          2908\n",
       "        TN     M         10588\n",
       "        TX     M         27791\n",
       "        UT     M          8233\n",
       "        VA     M         11997\n",
       "        VT     M          1618\n",
       "        WA     M         11049\n",
       "        WI     M          8940\n",
       "        WV     M          3733\n",
       "        WY     M          1904\n",
       "Name: Gender, Length: 102, dtype: int64"
      ]
     },
     "execution_count": 6,
     "metadata": {},
     "output_type": "execute_result"
    }
   ],
   "source": [
    "\n",
    "#distribution of male and female born count by states\n",
    "df.groupby(['Gender','State']).Gender.value_counts()\n"
   ]
  },
  {
   "cell_type": "code",
   "execution_count": null,
   "metadata": {},
   "outputs": [],
   "source": []
  }
 ],
 "metadata": {
  "kernelspec": {
   "display_name": "Python 3",
   "language": "python",
   "name": "python3"
  },
  "language_info": {
   "codemirror_mode": {
    "name": "ipython",
    "version": 3
   },
   "file_extension": ".py",
   "mimetype": "text/x-python",
   "name": "python",
   "nbconvert_exporter": "python",
   "pygments_lexer": "ipython3",
   "version": "3.6.4"
  }
 },
 "nbformat": 4,
 "nbformat_minor": 2
}
